{
 "cells": [
  {
   "cell_type": "markdown",
   "metadata": {},
   "source": [
    "## Pytorch Geometric\n",
    "- Link: https://pytorch-geometric.readthedocs.io/en/latest/\n",
    "\n",
    "현재 Post는 PyG(Pytorch Geometric)에 관련하여 알아보는 Post 입니다. GNN에서 많은 기능을 지원하고, 다른 논문들에서 기본적으로 많이 사용하므로 앞으로 논문 구현 및 공부하기 위하여 해당 패키지에 대해 알아봅니다."
   ]
  },
  {
   "cell_type": "markdown",
   "metadata": {},
   "source": [
    "### PyG Tutorials\n",
    "\n",
    "먼저, PyG의 Tutorial을 통하여, PyG의 특징과 실제 예제롤 확인하여 보자."
   ]
  },
  {
   "cell_type": "markdown",
   "metadata": {},
   "source": [
    "**Import Library**"
   ]
  },
  {
   "cell_type": "code",
   "execution_count": 1,
   "metadata": {},
   "outputs": [],
   "source": [
    "import torch\n",
    "import torch_geometric.transforms as T\n",
    "from torch_geometric.utils import scatter\n",
    "\n",
    "from torch_geometric.data import Data\n",
    "from torch_geometric.loader import DataLoader\n",
    "from torch_geometric.datasets import Planetoid, TUDataset, ShapeNet"
   ]
  },
  {
   "cell_type": "markdown",
   "metadata": {},
   "source": [
    "### Data Handling of Graphs\n",
    "\n",
    "Graph는 pairwise relation (edges) between objects(nodes)로 이루워져 있다. 해당 Dataset에 대하여 PyG는 <code>torch_geometric.data.Data</code>로서 제공한다.\n",
    "\n",
    "**<code>torch_geometric.data.Data</code> Argument**. \n",
    "\n",
    "- <code>data.x</code>: Node feature matrix with shape <code>[num_nodes, num_node_features]</code>\n",
    "- <code>data.edge_index</code>: Graph connectivity with shape [2, num_edges] and type <code>torch.long</code>\n",
    "- <code>data.edge_attr</code>: Edge feature matrix with shape <code>[num_edges, num_edge_features]</code>\n",
    "- <code>data.y</code>: Target to train against with shape <code>[num_nodes, *]</code>\n",
    "- <code>data.pos</code>: Node position matrix with shape <code>[num_nodes, num_dimensions]</code>"
   ]
  },
  {
   "cell_type": "markdown",
   "metadata": {},
   "source": [
    "![png](https://pytorch-geometric.readthedocs.io/en/latest/_images/graph.svg)\n",
    "\n",
    "위와 같은 Figure는 아래와 같은 Dataset으로서 표현 가능하다."
   ]
  },
  {
   "cell_type": "code",
   "execution_count": 2,
   "metadata": {},
   "outputs": [
    {
     "data": {
      "text/plain": [
       "Data(x=[3, 1], edge_index=[2, 4])"
      ]
     },
     "execution_count": 2,
     "metadata": {},
     "output_type": "execute_result"
    }
   ],
   "source": [
    "edge_index = torch.tensor([[0, 1, 1, 2],\n",
    "                           [1, 0, 2, 1]], dtype=torch.long)\n",
    "x = torch.tensor([[-1], [0], [1]], dtype=torch.float)\n",
    "\n",
    "data = Data(x=x, edge_index=edge_index)\n",
    "data"
   ]
  },
  {
   "cell_type": "markdown",
   "metadata": {},
   "source": [
    "해당 사항에서 주요한 점은 <code>edge_index</code>를 <code>[num_edges, 2]</code>의 Shape로서 정의하게 되면, 단순히 transpose 뿐만 아니라, contiguous또한 선언해야 한다.\n",
    "\n",
    "- 참조: <a href=\"https://jimmy-ai.tistory.com/122\">Torch의 Contiguous에 대해서</a>"
   ]
  },
  {
   "cell_type": "code",
   "execution_count": 3,
   "metadata": {},
   "outputs": [
    {
     "data": {
      "text/plain": [
       "Data(x=[3, 1], edge_index=[2, 4])"
      ]
     },
     "execution_count": 3,
     "metadata": {},
     "output_type": "execute_result"
    }
   ],
   "source": [
    "edge_index = torch.tensor([[0, 1],\n",
    "                           [1, 0],\n",
    "                           [1, 2],\n",
    "                           [2, 1]], dtype=torch.long)\n",
    "x = torch.tensor([[-1], [0], [1]], dtype=torch.float)\n",
    "\n",
    "data = Data(x=x, edge_index=edge_index.t().contiguous())\n",
    "data"
   ]
  },
  {
   "cell_type": "markdown",
   "metadata": {},
   "source": [
    "해당 dataset을 사용할 수 있는 Format인지 확인하기 위해서는 아래와 같이 <code>.validate(raise_on_error=True)</code>로서 확인 가능하다."
   ]
  },
  {
   "cell_type": "code",
   "execution_count": 4,
   "metadata": {},
   "outputs": [
    {
     "data": {
      "text/plain": [
       "True"
      ]
     },
     "execution_count": 4,
     "metadata": {},
     "output_type": "execute_result"
    }
   ],
   "source": [
    "data.validate(raise_on_error=True)"
   ]
  },
  {
   "cell_type": "markdown",
   "metadata": {},
   "source": [
    "### Common Benchmark Datasets\n",
    "\n",
    "PyG에서는 여러가지 Benchmark Datasets를 제공한다. 그 중 많이 사용하는 Cora Dataset에 대하여 알아보자."
   ]
  },
  {
   "cell_type": "code",
   "execution_count": 5,
   "metadata": {},
   "outputs": [
    {
     "name": "stdout",
     "output_type": "stream",
     "text": [
      "--------------------Dataset--------------------\n",
      "Cora()\n",
      "Number of Nodes: 2708\n",
      "Number of Edges: 2\n",
      "Number of Classes: 7\n",
      "Number of Node Features: 1433\n",
      "\n",
      "\n",
      "\n",
      "--------------------Data--------------------\n",
      "Is Undirected?: True\n",
      "Data(x=[2708, 1433], edge_index=[2, 10556], y=[2708], train_mask=[2708], val_mask=[2708], test_mask=[2708])\n",
      "Number of Train Mask // Shape: 2708, Sum: 140\n",
      "Number of Validation Mask // Shape: 2708, Sum: 500\n",
      "Number of Test Mask // Shape: 2708, Sum: 1000\n"
     ]
    }
   ],
   "source": [
    "## Dataset ##\n",
    "print('-'*20+'Dataset'+'-'*20)\n",
    "dataset = Planetoid(root='/tmp/Cora', name='Cora')\n",
    "print(dataset)\n",
    "print('Number of Nodes: {}'.format(dataset.x.shape[0]))\n",
    "print('Number of Edges: {}'.format(dataset.edge_index.shape[0]))\n",
    "print('Number of Classes: {}'.format(dataset.num_classes))\n",
    "print('Number of Node Features: {}'.format(dataset.num_node_features))\n",
    "\n",
    "## Data ##\n",
    "print('\\n\\n\\n'+'-'*20+'Data'+'-'*20)\n",
    "data = dataset[0]\n",
    "print('Is Undirected?: {}'.format(data.is_undirected()))\n",
    "print(data)\n",
    "print('Number of Train Mask // Shape: {}, Sum: {}'.format(\n",
    "len(data.train_mask), data.train_mask.sum()))\n",
    "print('Number of Validation Mask // Shape: {}, Sum: {}'.format(\n",
    "len(data.val_mask), data.val_mask.sum()))\n",
    "print('Number of Test Mask // Shape: {}, Sum: {}'.format(\n",
    "len(data.test_mask), data.test_mask.sum()))"
   ]
  },
  {
   "cell_type": "markdown",
   "metadata": {},
   "source": [
    "기본적인 특성을 말고 Index를 하거나, Permutation을 하는 방법은 아래와 같다."
   ]
  },
  {
   "cell_type": "code",
   "execution_count": 6,
   "metadata": {},
   "outputs": [
    {
     "name": "stdout",
     "output_type": "stream",
     "text": [
      "Train Dataset\n",
      "ENZYMES(540)\n",
      "Value\n",
      "tensor([[1., 0., 0.],\n",
      "        [1., 0., 0.],\n",
      "        [1., 0., 0.]])\n",
      "\n",
      "\n",
      "Test Dataset\n",
      "ENZYMES(60)\n",
      "Value\n",
      "tensor([[1., 0., 0.],\n",
      "        [1., 0., 0.],\n",
      "        [1., 0., 0.]])\n",
      "\n",
      "\n",
      "After Shuffle Train Dataset\n",
      "ENZYMES(540)\n",
      "Value\n",
      "tensor([[1., 0., 0.],\n",
      "        [1., 0., 0.],\n",
      "        [1., 0., 0.]])\n",
      "\n",
      "\n",
      "Permutation\n",
      "ENZYMES(540)\n",
      "Value\n",
      "tensor([[1., 0., 0.],\n",
      "        [1., 0., 0.],\n",
      "        [1., 0., 0.]])\n"
     ]
    }
   ],
   "source": [
    "dataset = TUDataset(root='/tmp/ENZYMES', name='ENZYMES')\n",
    "data = dataset[0]\n",
    "\n",
    "print('Train Dataset')\n",
    "train_dataset = dataset[:540]\n",
    "print(train_dataset)\n",
    "print('Value')\n",
    "print(train_dataset.x[100:103, :])\n",
    "\n",
    "print('\\n\\nTest Dataset')\n",
    "test_dataset = dataset[540:]\n",
    "print(test_dataset)\n",
    "print('Value')\n",
    "print(test_dataset.x[100:103, :])\n",
    "\n",
    "print('\\n\\nAfter Shuffle Train Dataset')\n",
    "train_dataset = train_dataset.shuffle()\n",
    "print(train_dataset)\n",
    "print('Value')\n",
    "print(train_dataset.x[100:103, :])\n",
    "\n",
    "print('\\n\\nPermutation')\n",
    "perm = torch.randperm(len(train_dataset))\n",
    "train_dataset = train_dataset[perm]\n",
    "print(train_dataset)\n",
    "print('Value')\n",
    "print(train_dataset.x[100:103, :])"
   ]
  },
  {
   "cell_type": "markdown",
   "metadata": {},
   "source": [
    "### Mini-baches\n",
    "\n",
    "Mini-batch란 PyTorch에서 사용하는 것 처럼 사용하기 위한 방법이다. PyTorch와 동일하게 병렬로 처리 가능하여, 빠른 수행이 가능하다. \n",
    "\n",
    "<a href=\"https://pytorch-geometric.readthedocs.io/en/latest/notes/create_dataset.html\">공식 홈페이지</a>에서 사용하는 Dataset과 DataLoader의 사용 방법은 아래와 같다.\n",
    "\n",
    "```python\n",
    "from torch_geometric.data import Data\n",
    "from torch_geometric.loader import DataLoader\n",
    "\n",
    "data_list = [Data(...), ..., Data(...)]\n",
    "loader = DataLoader(data_list, batch_size=32)\n",
    "```\n",
    "\n",
    "실제 Dataset을 Custom하여 확인하자."
   ]
  },
  {
   "cell_type": "markdown",
   "metadata": {},
   "source": [
    "**현재 구축한 Dataset은 아래와 같은 구성으로서 이루워져 있다.**\n",
    "- <code>dataset_list</code>: 100개의 Graph를 포함하고 있는 List. 각각의 원소는 한개의 Graph를 의미한다.\n",
    "- <code>x</code>: 한개의 Graph당 100개의 Node를 가지고 있다. 각각의 Node는 5개의 Feature를 가지고 있다.\n",
    "- <code>edge</code>: 한개의 Graph당 100개의 Edge를 가지고 있다."
   ]
  },
  {
   "cell_type": "code",
   "execution_count": 7,
   "metadata": {},
   "outputs": [],
   "source": [
    "dataset_list = []\n",
    "\n",
    "for i in range(100):\n",
    "    edge_origin = torch.randint(100, (100, 1))\n",
    "    edge_destination = torch.randint(100, (100, 1))\n",
    "    edge_index = torch.stack([edge_origin.squeeze(), edge_destination.squeeze()], 0).type(torch.LongTensor)\n",
    "\n",
    "    x = torch.rand((100, 5), dtype=torch.float)\n",
    "    dataset = Data(x=x, edge_index=edge_index)\n",
    "    dataset_list.append(dataset)"
   ]
  },
  {
   "cell_type": "markdown",
   "metadata": {},
   "source": [
    "아래 결과를 살펴보게 되면, PyG의 DataLoader는 다음과 같은 특징을 가지고 있다.\n",
    "\n",
    "1. DataLoader에 담겨야 하는 내용은 Graph를 List형태로 담아서 선언해야 한다.\n",
    "2. Batch로서 가져오게 되면, DataLoader안에서 Batch개 만큼의 Graph를 가져온다.\n",
    "3. 각 Graph는 Concat하여 반환해 준다. 즉, 100(Node)x5(Feature)의 Graph를 Batchsize=20으로서 불러오게 되면 -> 2000 x 5가 된다.\n",
    "4. <code>batch.batch</code>는 각 Node가 속한 Graph를 의미하게 된다."
   ]
  },
  {
   "cell_type": "code",
   "execution_count": 8,
   "metadata": {
    "scrolled": true
   },
   "outputs": [
    {
     "name": "stdout",
     "output_type": "stream",
     "text": [
      "Batch Index:  tensor([ 0,  0,  0,  ..., 19, 19, 19])\n",
      "Number of Graphs:  20\n",
      "Data Feature:  torch.Size([2000, 5])\n",
      "Batch Index:  tensor([ 0,  0,  0,  ..., 19, 19, 19])\n",
      "Number of Graphs:  20\n",
      "Data Feature:  torch.Size([2000, 5])\n",
      "Batch Index:  tensor([ 0,  0,  0,  ..., 19, 19, 19])\n",
      "Number of Graphs:  20\n",
      "Data Feature:  torch.Size([2000, 5])\n",
      "Batch Index:  tensor([ 0,  0,  0,  ..., 19, 19, 19])\n",
      "Number of Graphs:  20\n",
      "Data Feature:  torch.Size([2000, 5])\n",
      "Batch Index:  tensor([ 0,  0,  0,  ..., 19, 19, 19])\n",
      "Number of Graphs:  20\n",
      "Data Feature:  torch.Size([2000, 5])\n"
     ]
    }
   ],
   "source": [
    "loader = DataLoader(dataset_list, batch_size=20, shuffle=False)\n",
    "\n",
    "for batch in loader:\n",
    "    print('Batch Index: ', batch.batch)\n",
    "    print('Number of Graphs: ', batch.num_graphs)\n",
    "    print('Data Feature: ', batch.x.shape)"
   ]
  },
  {
   "cell_type": "markdown",
   "metadata": {},
   "source": [
    "위와 같은 이유로 아래와 같이 평균을 취하여 사용 가능하다."
   ]
  },
  {
   "cell_type": "code",
   "execution_count": 9,
   "metadata": {},
   "outputs": [
    {
     "name": "stdout",
     "output_type": "stream",
     "text": [
      "torch.Size([20, 5])\n"
     ]
    }
   ],
   "source": [
    "# Average\n",
    "x = scatter(batch.x, batch.batch, dim=0, reduce='mean')\n",
    "print(x.size())"
   ]
  },
  {
   "cell_type": "markdown",
   "metadata": {},
   "source": [
    "### Data Transform\n",
    "\n",
    "Data Transform은 종류가 매우 많다. 해당 종류에 대해서는 <a href=\"https://pytorch-geometric.readthedocs.io/en/latest/modules/transforms.html\">PyG 공식 홈페이지</a>를 참조 하자.\n",
    "\n",
    "먼저, 관심있는 Dataset Split이다. Graph기반의 Model은 크게 Node Classification, Link Prediction이 존재하게 된다. 먼저 Dataset은 아래와 같이 정의된다."
   ]
  },
  {
   "cell_type": "code",
   "execution_count": 10,
   "metadata": {},
   "outputs": [
    {
     "name": "stdout",
     "output_type": "stream",
     "text": [
      "Cora()\n",
      "Shape of Dataset: torch.Size([2708, 1433])\n",
      "Number of Edges: torch.Size([2, 10556])\n"
     ]
    }
   ],
   "source": [
    "from torch_geometric.datasets import KarateClub\n",
    "from torch_geometric.transforms import RandomLinkSplit\n",
    "\n",
    "dataset = Planetoid(root='/tmp/Cora', name='Cora')\n",
    "print(dataset)\n",
    "print('Shape of Dataset: {}'.format(dataset.x.shape))\n",
    "print('Number of Edges: {}'.format(dataset.edge_index.shape))"
   ]
  },
  {
   "cell_type": "markdown",
   "metadata": {},
   "source": [
    "### RandomLinkSplit\n",
    "\n",
    "Edge를 대상으로 Train, Validation, Test set을 Split 진행 합니다."
   ]
  },
  {
   "cell_type": "markdown",
   "metadata": {},
   "source": [
    "**Appendix: <code>RandomLinkSplit</code>**: https://github.com/pyg-team/pytorch_geometric/issues/3668\n",
    "\n",
    "해당 되는 RandomLinkSplit에 대하여 토론을 나눈 주소 입니다. Link Prediction의 개념을 잡는데 매우 주요한 부분인 것 같습니다."
   ]
  },
  {
   "cell_type": "markdown",
   "metadata": {},
   "source": [
    "**Edge Index**"
   ]
  },
  {
   "cell_type": "code",
   "execution_count": 11,
   "metadata": {},
   "outputs": [
    {
     "name": "stdout",
     "output_type": "stream",
     "text": [
      "Number of Train Edges: torch.Size([2, 8448])\n",
      "Number of Validation Edges: torch.Size([2, 8448])\n",
      "Number of Test Edges: torch.Size([2, 9502])\n"
     ]
    }
   ],
   "source": [
    "transform = T.Compose([\n",
    "    T.NormalizeFeatures(),\n",
    "    # T.ToDevice(device),\n",
    "    T.RandomLinkSplit(num_val=0.1, num_test=0.1, is_undirected=True,\n",
    "                      add_negative_train_samples=False),\n",
    "])\n",
    "\n",
    "train_dataset, val_dataset, test_dataset = transform(dataset[0])\n",
    "\n",
    "print('Number of Train Edges: {}'.format(train_dataset.edge_index.shape))\n",
    "print('Number of Validation Edges: {}'.format(val_dataset.edge_index.shape))\n",
    "print('Number of Test Edges: {}'.format(test_dataset.edge_index.shape))"
   ]
  },
  {
   "cell_type": "markdown",
   "metadata": {},
   "source": [
    "**Edge label Index**"
   ]
  },
  {
   "cell_type": "code",
   "execution_count": 12,
   "metadata": {},
   "outputs": [
    {
     "name": "stdout",
     "output_type": "stream",
     "text": [
      "Number of Train Edges: torch.Size([2, 4224])\n",
      "Number of Validation Edges: torch.Size([2, 1054])\n",
      "Number of Test Edges: torch.Size([2, 1054])\n"
     ]
    }
   ],
   "source": [
    "print('Number of Train Edges: {}'.format(train_dataset.edge_label_index.shape))\n",
    "print('Number of Validation Edges: {}'.format(val_dataset.edge_label_index.shape))\n",
    "print('Number of Test Edges: {}'.format(test_dataset.edge_label_index.shape))"
   ]
  },
  {
   "cell_type": "markdown",
   "metadata": {},
   "source": [
    "**Edge label**"
   ]
  },
  {
   "cell_type": "code",
   "execution_count": 13,
   "metadata": {},
   "outputs": [
    {
     "name": "stdout",
     "output_type": "stream",
     "text": [
      "Number of Train Edges: torch.Size([4224])\n",
      "Number of Validation Edges: torch.Size([1054])\n",
      "Number of Test Edges: torch.Size([1054])\n"
     ]
    }
   ],
   "source": [
    "print('Number of Train Edges: {}'.format(train_dataset.edge_label.shape))\n",
    "print('Number of Validation Edges: {}'.format(val_dataset.edge_label.shape))\n",
    "print('Number of Test Edges: {}'.format(test_dataset.edge_label.shape))"
   ]
  },
  {
   "cell_type": "markdown",
   "metadata": {},
   "source": [
    "위의 결과를 살펴보게 되면, edge label기준으로는 모두 잘 split한 것을 알 수 있다. 하지만, edge_index는 조금 다른 숫자를 가지고 있는것을 알 수 있다. \n",
    "\n",
    "이러한 이유는 Graph는 주변 정보를 가져오게 되는 Message Passing개념이 있기 때문이다.\n",
    "\n",
    "즉, Link를 단순히 Split하는 것 뿐만 아니라 Node까지 끝어야 정보 전달이 되지 않기 때문이다.\n",
    "\n",
    "실제 결과를 살펴보면, 아래와 같이 Validation, Test에만 존재하는 Node들이 존재하며, 서로 겹치지 않게 고려하여여 Split 해준다."
   ]
  },
  {
   "cell_type": "code",
   "execution_count": 14,
   "metadata": {},
   "outputs": [
    {
     "name": "stdout",
     "output_type": "stream",
     "text": [
      "Number of only train node: 632\n",
      "Number of only validation node: 39\n",
      "Number of only test node: 33\n"
     ]
    }
   ],
   "source": [
    "train_node = train_dataset.edge_label_index.unique()\n",
    "val_node = val_dataset.edge_label_index.unique()\n",
    "test_node = test_dataset.edge_label_index.unique()\n",
    "\n",
    "only_train_node = list(set(train_node.numpy()) - set(val_node.numpy()) - set(test_node.numpy()))\n",
    "only_val_node = list(set(val_node.numpy()) - set(train_node.numpy()) - set(test_node.numpy()))\n",
    "only_test_node = list(set(test_node.numpy()) - set(train_node.numpy()) - set(val_node.numpy()))\n",
    "\n",
    "print('Number of only train node: {}'.format(len(only_train_node)))\n",
    "print('Number of only validation node: {}'.format(len(only_val_node)))\n",
    "print('Number of only test node: {}'.format(len(only_test_node)))"
   ]
  },
  {
   "cell_type": "markdown",
   "metadata": {},
   "source": [
    "### RandomNodeSplit\n",
    "\n",
    "**RandomNodeSplit의 결과를 살펴보게 되면, Train, Validation, Test set으로 완전한 Split이 아닌 mask를 Dataset안에 담는 형식으로 Return 한다.**\n",
    "\n",
    "즉, Edge정보는 모두 동일하게 사용하되, Node만 Split하는 형태이다."
   ]
  },
  {
   "cell_type": "code",
   "execution_count": 15,
   "metadata": {},
   "outputs": [
    {
     "name": "stdout",
     "output_type": "stream",
     "text": [
      "Number of Train Node: 2166\n",
      "Number of Validation Node: 271\n",
      "Number of Test Node: 271\n"
     ]
    }
   ],
   "source": [
    "transform = T.Compose([\n",
    "    T.NormalizeFeatures(),\n",
    "    # T.ToDevice(device),\n",
    "    T.RandomNodeSplit(num_val=0.1, num_test=0.1),\n",
    "])\n",
    "\n",
    "node_dataset = transform(dataset[0])\n",
    "\n",
    "print('Number of Train Node: {}'.format(sum(node_dataset.train_mask)))\n",
    "print('Number of Validation Node: {}'.format(sum(node_dataset.val_mask)))\n",
    "print('Number of Test Node: {}'.format(sum(node_dataset.test_mask)))"
   ]
  },
  {
   "cell_type": "markdown",
   "metadata": {},
   "source": [
    "### Learning Methods on Graphs\n",
    "\n",
    "간단한 GCN Layer로서 Graph를 학습하는 과정이다. (Node Classification Task)\n",
    "\n",
    "기존 Troch와 다른 점은 <code>dataset[data.train_mask]</code>같은 형태로서 Train Dataset을 구축한다는 것 이다."
   ]
  },
  {
   "cell_type": "code",
   "execution_count": 16,
   "metadata": {},
   "outputs": [],
   "source": [
    "import torch\n",
    "import torch.nn.functional as F\n",
    "from torch_geometric.nn import GCNConv\n",
    "\n",
    "# Load Dataset\n",
    "dataset = Planetoid(root='/tmp/Cora', name='Cora')"
   ]
  },
  {
   "cell_type": "markdown",
   "metadata": {},
   "source": [
    "**GCN Layer**"
   ]
  },
  {
   "cell_type": "code",
   "execution_count": 17,
   "metadata": {},
   "outputs": [],
   "source": [
    "class GCN(torch.nn.Module):\n",
    "    def __init__(self):\n",
    "        super().__init__()\n",
    "        self.conv1 = GCNConv(dataset.num_node_features, 16)\n",
    "        self.conv2 = GCNConv(16, dataset.num_classes)\n",
    "\n",
    "    def forward(self, data):\n",
    "        x, edge_index = data.x, data.edge_index\n",
    "\n",
    "        x = self.conv1(x, edge_index)\n",
    "        x = F.relu(x)\n",
    "        x = F.dropout(x, training=self.training)\n",
    "        x = self.conv2(x, edge_index)\n",
    "\n",
    "        return F.log_softmax(x, dim=1)"
   ]
  },
  {
   "cell_type": "markdown",
   "metadata": {},
   "source": [
    "**Model Train**"
   ]
  },
  {
   "cell_type": "code",
   "execution_count": 18,
   "metadata": {},
   "outputs": [],
   "source": [
    "device = torch.device('cuda' if torch.cuda.is_available() else 'cpu')\n",
    "model = GCN().to(device)\n",
    "data = dataset[0].to(device)\n",
    "optimizer = torch.optim.Adam(model.parameters(), lr=0.01, weight_decay=5e-4)\n",
    "\n",
    "model.train()\n",
    "for epoch in range(200):\n",
    "    optimizer.zero_grad()\n",
    "    out = model(data)\n",
    "    loss = F.nll_loss(out[data.train_mask], data.y[data.train_mask])\n",
    "    loss.backward()\n",
    "    optimizer.step()"
   ]
  },
  {
   "cell_type": "markdown",
   "metadata": {},
   "source": [
    "**Validation**"
   ]
  },
  {
   "cell_type": "code",
   "execution_count": 19,
   "metadata": {},
   "outputs": [
    {
     "name": "stdout",
     "output_type": "stream",
     "text": [
      "Accuracy: 0.8020\n"
     ]
    }
   ],
   "source": [
    "model.eval()\n",
    "pred = model(data).argmax(dim=1)\n",
    "correct = (pred[data.test_mask] == data.y[data.test_mask]).sum()\n",
    "acc = int(correct) / int(data.test_mask.sum())\n",
    "print(f'Accuracy: {acc:.4f}')"
   ]
  }
 ],
 "metadata": {
  "kernelspec": {
   "display_name": "Python 3",
   "language": "python",
   "name": "python3"
  },
  "language_info": {
   "codemirror_mode": {
    "name": "ipython",
    "version": 3
   },
   "file_extension": ".py",
   "mimetype": "text/x-python",
   "name": "python",
   "nbconvert_exporter": "python",
   "pygments_lexer": "ipython3",
   "version": "3.7.7"
  }
 },
 "nbformat": 4,
 "nbformat_minor": 4
}
