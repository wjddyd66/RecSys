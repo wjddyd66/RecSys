{
 "cells": [
  {
   "cell_type": "markdown",
   "metadata": {},
   "source": [
    "### Basic\n",
    "\n",
    "1. Pytorch Geometric Example\n",
    "    - Link: https://pytorch-geometric.readthedocs.io/en/latest/get_started/introduction.html"
   ]
  },
  {
   "cell_type": "markdown",
   "metadata": {},
   "source": [
    "### Link Prediction - CORA (One-Pair)\n",
    "- Paper with Code Link: https://paperswithcode.com/sota/link-prediction-on-cora\n",
    "\n",
    "1. Neural Link Prediction with Walk Pooling (Walk Pooling)\n",
    "    - Link: https://arxiv.org/pdf/2110.04375v2.pdf\n",
    "    - Code: https://github.com/dadacheng/walkpooling\n",
    "2. Variational Graph Normalized AutoEncoders (VGNAE)\n",
    "    - Link: https://arxiv.org/pdf/2108.08046v2.pdf\n",
    "    - Code: https://github.com/SeongJinAhn/VGNAE\n",
    "3. Adversarially Regularized Graph Autoencoder for Graph Embedding (AGRE - Tensorflow) // (#2)\n",
    "    - Link: https://arxiv.org/pdf/1802.04407v2.pdf\n",
    "    - Code: https://github.com/GRAND-Lab/ARGA\n",
    "4. Variational Graph Auto-Encoders (#1) -> dgl package쓰지 않고 할 수 있는 코드 찾아 보기\n",
    "    - Link: https://arxiv.org/pdf/1611.07308v1.pdf\n",
    "    - Code: https://github.com/dmlc/dgl/tree/master/examples/pytorch/vgae \n",
    "    - Code 2: https://github.com/tkipf/gae"
   ]
  },
  {
   "cell_type": "markdown",
   "metadata": {},
   "source": [
    "### Link Prediction - MovieLens (User-Item)\n",
    "\n",
    "**첫번째 논문을 제외하고는 주요한 논문이 아니다. 대략적으로 User-Item간의 Link를 Prediction을 어떻게 하는지 알아보는 정도로 하자.**\n",
    "\n",
    "- Paper with Code Link: https://paperswithcode.com/sota/link-prediction-on-movielens-25m\n",
    "\n",
    "1. Metapath and Entity-Aware Graph Neural Network for Recommendation (PEAGNN)\n",
    "    - Link: https://arxiv.org/pdf/2010.11793v3.pdf\n",
    "    - Code: https://github.com/blindsubmission1/PEAGNN\n",
    "2. Neural Factorization Machines for Sparse Predictive Analytics -> 오래전 Model // 이런 모델도 있구나 정도.\n",
    "    - Link: https://arxiv.org/pdf/1708.05027v1.pdf\n",
    "    - Code: https://github.com/hexiangnan/neural_factorization_machine (Tensorflow)\n",
    "3. Neural Graph Collaborative Filtering (NGCF)\n",
    "    - Link: https://arxiv.org/pdf/1905.08108v2.pdf\n",
    "    - Code: https://github.com/huangtinglin/NGCF-PyTorch"
   ]
  }
 ],
 "metadata": {
  "kernelspec": {
   "display_name": "Python 3",
   "language": "python",
   "name": "python3"
  },
  "language_info": {
   "codemirror_mode": {
    "name": "ipython",
    "version": 3
   },
   "file_extension": ".py",
   "mimetype": "text/x-python",
   "name": "python",
   "nbconvert_exporter": "python",
   "pygments_lexer": "ipython3",
   "version": "3.7.7"
  }
 },
 "nbformat": 4,
 "nbformat_minor": 4
}
